{
    "cells": [
        {
            "cell_type": "markdown",
            "metadata": {
                "collapsed": true
            },
            "source": "## Final Project for the Course Applied Data Science Capstone by IBM\n### Student: F\u00e1bio Vieweger Vasques\n\n__Description__: This project has as a objective show how countries other than those with historical tradition on wine production are established around the globe.\n\nWine production is divided into New World and Old World. Old World is formed by countries with a long-established history of wine production, like France, Italy, Germany, Spain and Portugal. New World wines are those produced outside this traditional winegrowing area.\nSo, for this study, we will check the size the New World is getting, looking for vineyards around Argentina, Australia, Brasil, Canada, Chile, Mexico, New Zealand, South Africa and the United States. We will take a closer look how it is distributed aroud the globe and we will see what those vineyards has as similarities.\nTo be abble to accomplish this objective, we will use Foursquare API's a few times, in a loop, to locate Vineyards within those New World producers."
        },
        {
            "cell_type": "markdown",
            "metadata": {},
            "source": "## About the strategie used for this notebook:\nAs there is a limit of daily access of foursquare API, a DB2 database has been created to store the data retrieved from Foursquare. Within this database data has been cleaned up, removing duplicities and some standards have been applied to rows which were lacking some information. All vineyards retrivied have latitude and longitude information to be plotted on a map."
        },
        {
            "cell_type": "markdown",
            "metadata": {},
            "source": "### Libraries and Dependecies Needed"
        },
        {
            "cell_type": "code",
            "execution_count": 5,
            "metadata": {
                "collapsed": true
            },
            "outputs": [],
            "source": "import pandas as pd # store dataframes\nimport requests # retrieve information from API\nfrom pandas.io.json import json_normalize # Threat the data retrieved from the API\nimport ibm_db # Library to work with DB2 database\nimport ibm_db_dbi # Library to work DB2 with Pandas\nimport folium # Map library"
        },
        {
            "cell_type": "markdown",
            "metadata": {},
            "source": "### Database connection configuration"
        },
        {
            "cell_type": "code",
            "execution_count": 6,
            "metadata": {
                "collapsed": true
            },
            "outputs": [
                {
                    "name": "stdout",
                    "output_type": "stream",
                    "text": "Connection variables are set\nDRIVER={IBM DB2 ODBC DRIVER};DATABASE=BLUDB;HOSTNAME=dashdb-txn-sbox-yp-dal09-04.services.dal.bluemix.net;PORT=50000;PROTOCOL=TCPIP;UID=ljb20609;PWD=nst1kws8v63^1422;\n"
                }
            ],
            "source": "# Create database connection to persist the API data on db2 cloud\ndsn_hostname = \"dashdb-txn-sbox-yp-dal09-04.services.dal.bluemix.net\" # e.g.: \"dashdb-txn-sbox-yp-dal09-04.services.dal.bluemix.net\"\ndsn_uid = \"ljb20609\"        # e.g. \"abc12345\"\ndsn_pwd = \"nst1kws8v63^1422\"      # e.g. \"7dBZ3wWt9XN6$o0J\"\n\ndsn_driver = \"{IBM DB2 ODBC DRIVER}\"\ndsn_database = \"BLUDB\"            # e.g. \"BLUDB\"\ndsn_port = \"50000\"                # e.g. \"50000\" \ndsn_protocol = \"TCPIP\"            # i.e. \"TCPIP\"\nprint('Connection variables are set')\n\n#Configure DSN\ndsn = (\n    \"DRIVER={0};\"\n    \"DATABASE={1};\"\n    \"HOSTNAME={2};\"\n    \"PORT={3};\"\n    \"PROTOCOL={4};\"\n    \"UID={5};\"\n    \"PWD={6};\").format(dsn_driver, dsn_database, dsn_hostname, dsn_port, dsn_protocol, dsn_uid, dsn_pwd)\n\n#print the connection string to check correct values are specified\nprint(dsn)"
        },
        {
            "cell_type": "code",
            "execution_count": 7,
            "metadata": {
                "collapsed": true
            },
            "outputs": [
                {
                    "name": "stdout",
                    "output_type": "stream",
                    "text": "Connected to database:  BLUDB as user:  ljb20609 on host:  dashdb-txn-sbox-yp-dal09-04.services.dal.bluemix.net\n"
                }
            ],
            "source": "#Check connection\n\ntry:\n    conn = ibm_db.connect(dsn, \"\", \"\")\n    print (\"Connected to database: \", dsn_database, \"as user: \", dsn_uid, \"on host: \", dsn_hostname)\n\nexcept:\n    print (\"Unable to connect: \", ibm_db.conn_errormsg() )"
        },
        {
            "cell_type": "markdown",
            "metadata": {},
            "source": "### Create the table where data from the API will be stored"
        },
        {
            "cell_type": "code",
            "execution_count": null,
            "metadata": {
                "collapsed": true
            },
            "outputs": [],
            "source": "createTable = ('create table vineyards (id_forsquare varchar(50),'\n                                        'vineyard_address varchar(200),'\n                                        'abreviation_country varchar(5),'\n                                        'city varchar(100),'\n                                        'country varchar(100),'\n                                        'latitude decimal(8,6),'\n                                        'longitude decimal(8,6),'\n                                        'city_state varchar (100),'\n                                        'Vineyard_name varchar (200))')\ncreateStmt = ibm_db.exec_immediate(conn, createTable)\ncreateStmt\nibm_db.close"
        },
        {
            "cell_type": "markdown",
            "metadata": {},
            "source": "## API Connection configuration"
        },
        {
            "cell_type": "code",
            "execution_count": 10,
            "metadata": {
                "collapsed": true
            },
            "outputs": [
                {
                    "name": "stdout",
                    "output_type": "stream",
                    "text": "ID for client is: R33E0XLKZ3PP5RI4OOQW5WDDISIYGOFCB5FBWVOMGCSDURKO \nClient secret is:  F4C0LBGKN2X4D5YETF22AREE1EM2PRGGYV222J02A13PSJF3\n"
                }
            ],
            "source": "client_id = 'R33E0XLKZ3PP5RI4OOQW5WDDISIYGOFCB5FBWVOMGCSDURKO'\nclient_secret = 'F4C0LBGKN2X4D5YETF22AREE1EM2PRGGYV222J02A13PSJF3'\ncategoryId='4bf58dd8d48988d1de941735' #Category for vineyards\nversion='20200203'\n\nprint ('ID for client is:', client_id, '\\nClient secret is: ', client_secret)"
        },
        {
            "cell_type": "markdown",
            "metadata": {},
            "source": "### Now is time to start to interact with the API and store the data within DB2 database"
        },
        {
            "cell_type": "code",
            "execution_count": 11,
            "metadata": {
                "collapsed": true
            },
            "outputs": [],
            "source": "# New World Wine Countries: Argentina, Australia, Brasil, Canada, Chile, Mexico, New Zealand, South Africa and the United States.\nnew_world = ('Argentina', 'Australia', 'Brasil', 'Canada', 'Chile', 'Mexico', 'New Zealand', 'South Africa', 'United States')"
        },
        {
            "cell_type": "code",
            "execution_count": null,
            "metadata": {},
            "outputs": [],
            "source": "df_vineyards = pd.DataFrame()\nfor country in new_world:\n    #set the API parameters to start the iteration\n    offset = 0\n    near = country\n    url = 'https://api.foursquare.com/v2/venues/explore?client_id={}&client_secret={}&near={}&v={}&categoryId={}&offset={}'.format(client_id, client_secret, near, version, categoryId, offset)\n    results = requests.get(url).json()\n    while 'warning' not in results['response']:\n        venues = results['response']['groups'][0]['items']\n        df_vineyards = json_normalize(venues)\n        insertVinho = ('insert into vineyards values (?, ?, ?, ?, ?, ?, ?, ?, ?)')\n        prep_stmt = ibm_db.prepare(conn, insertVinho)\n        for i in df_vineyards.index:\n            ibm_db.bind_param(prep_stmt, 1, df_vineyards['venue.id'][i])\n            ibm_db.bind_param(prep_stmt, 2, df_vineyards['venue.location.address'][i])\n            ibm_db.bind_param(prep_stmt, 3, df_vineyards['venue.location.cc'][i])\n            ibm_db.bind_param(prep_stmt, 4, df_vineyards['venue.location.city'][i])\n            ibm_db.bind_param(prep_stmt, 5, df_vineyards['venue.location.country'][i])\n            ibm_db.bind_param(prep_stmt, 6, df_vineyards['venue.location.lat'][i])\n            ibm_db.bind_param(prep_stmt, 7, df_vineyards['venue.location.lng'][i])\n            ibm_db.bind_param(prep_stmt, 8, df_vineyards['venue.location.state'][i])\n            ibm_db.bind_param(prep_stmt, 9, df_vineyards['venue.name'][i])\n            ibm_db.execute(prep_stmt)\n        ibm_db.close\n        offset = offset+1\n        url = 'https://api.foursquare.com/v2/venues/explore?client_id={}&client_secret={}&near={}&v={}&categoryId={}&offset={}'.format(client_id, client_secret, near, version, categoryId, offset)\n        results = requests.get(url).json()"
        },
        {
            "cell_type": "markdown",
            "metadata": {},
            "source": "## Now the data is prepared, time to extract information from it"
        },
        {
            "cell_type": "markdown",
            "metadata": {},
            "source": "Now let's create a dataframe from our table:"
        },
        {
            "cell_type": "code",
            "execution_count": 36,
            "metadata": {},
            "outputs": [],
            "source": "pconn = ibm_db_dbi.Connection(conn)\nquery = 'select distinct * from vineyards'"
        },
        {
            "cell_type": "code",
            "execution_count": 37,
            "metadata": {},
            "outputs": [],
            "source": "df_new_world = pd.read_sql(query, pconn)"
        },
        {
            "cell_type": "markdown",
            "metadata": {},
            "source": "Some information have strange names on address, city and state. So let's clean it up:"
        },
        {
            "cell_type": "code",
            "execution_count": 34,
            "metadata": {},
            "outputs": [
                {
                    "data": {
                        "text/plain": "True"
                    },
                    "execution_count": 34,
                    "metadata": {},
                    "output_type": "execute_result"
                }
            ],
            "source": "updateAddress = \"update vineyards set vineyard_address = 'Not defined' where vineyard_address = '1,#QNAN000000000E+0'\"\nscript = ibm_db.prepare(conn, updateAddress)\nibm_db.execute(script)"
        },
        {
            "cell_type": "code",
            "execution_count": 32,
            "metadata": {},
            "outputs": [
                {
                    "data": {
                        "text/plain": "True"
                    },
                    "execution_count": 32,
                    "metadata": {},
                    "output_type": "execute_result"
                }
            ],
            "source": "updateCity = \"update vineyards set city = 'Not defined' where city = '1,#QNAN000000000E+0'\"\nscript = ibm_db.prepare(conn, updateCity)\nibm_db.execute(script)"
        },
        {
            "cell_type": "code",
            "execution_count": 33,
            "metadata": {},
            "outputs": [
                {
                    "data": {
                        "text/plain": "True"
                    },
                    "execution_count": 33,
                    "metadata": {},
                    "output_type": "execute_result"
                }
            ],
            "source": "updateState = \"update vineyards set city_state = 'Not defined' where city_state = '1,#QNAN000000000E+0'\"\nscript = ibm_db.prepare(conn, updateState)\nibm_db.execute(script)"
        },
        {
            "cell_type": "code",
            "execution_count": 41,
            "metadata": {},
            "outputs": [
                {
                    "data": {
                        "text/html": "<div>\n<style scoped>\n    .dataframe tbody tr th:only-of-type {\n        vertical-align: middle;\n    }\n\n    .dataframe tbody tr th {\n        vertical-align: top;\n    }\n\n    .dataframe thead th {\n        text-align: right;\n    }\n</style>\n<table border=\"1\" class=\"dataframe\">\n  <thead>\n    <tr style=\"text-align: right;\">\n      <th></th>\n      <th>ID_FORSQUARE</th>\n      <th>VINEYARD_ADDRESS</th>\n      <th>ABREVIATION_COUNTRY</th>\n      <th>CITY</th>\n      <th>COUNTRY</th>\n      <th>LATITUDE</th>\n      <th>LONGITUDE</th>\n      <th>CITY_STATE</th>\n      <th>VINEYARD_NAME</th>\n    </tr>\n  </thead>\n  <tbody>\n    <tr>\n      <th>0</th>\n      <td>4babc28af964a5201ec73ae3</td>\n      <td>not defined</td>\n      <td>NZ</td>\n      <td>not defined</td>\n      <td>New Zealand</td>\n      <td>-45.084868</td>\n      <td>169.180737</td>\n      <td>not defined</td>\n      <td>Akarua Winery</td>\n    </tr>\n    <tr>\n      <th>1</th>\n      <td>4dc723b518387d1bd5699641</td>\n      <td>not defined</td>\n      <td>NZ</td>\n      <td>Bannockburn</td>\n      <td>New Zealand</td>\n      <td>-45.039962</td>\n      <td>169.121620</td>\n      <td>Otago</td>\n      <td>Wild Earth Wines</td>\n    </tr>\n    <tr>\n      <th>2</th>\n      <td>549cdc88498eaaf3954b9610</td>\n      <td>not defined</td>\n      <td>NZ</td>\n      <td>not defined</td>\n      <td>New Zealand</td>\n      <td>-45.029441</td>\n      <td>168.969287</td>\n      <td>not defined</td>\n      <td>Kinross</td>\n    </tr>\n    <tr>\n      <th>3</th>\n      <td>4d0e7be1b4abb60cc472417a</td>\n      <td>not defined</td>\n      <td>NZ</td>\n      <td>not defined</td>\n      <td>New Zealand</td>\n      <td>-45.028898</td>\n      <td>169.197911</td>\n      <td>not defined</td>\n      <td>Jackson Q Orchards</td>\n    </tr>\n    <tr>\n      <th>4</th>\n      <td>4c5cb29f94fd0f478285c945</td>\n      <td>Gibbston Valley</td>\n      <td>NZ</td>\n      <td>Queenstown</td>\n      <td>New Zealand</td>\n      <td>-45.012217</td>\n      <td>168.915346</td>\n      <td>Otago</td>\n      <td>Gibbston Valley Winery</td>\n    </tr>\n  </tbody>\n</table>\n</div>",
                        "text/plain": "               ID_FORSQUARE VINEYARD_ADDRESS ABREVIATION_COUNTRY         CITY  \\\n0  4babc28af964a5201ec73ae3      not defined                  NZ  not defined   \n1  4dc723b518387d1bd5699641      not defined                  NZ  Bannockburn   \n2  549cdc88498eaaf3954b9610      not defined                  NZ  not defined   \n3  4d0e7be1b4abb60cc472417a      not defined                  NZ  not defined   \n4  4c5cb29f94fd0f478285c945  Gibbston Valley                  NZ   Queenstown   \n\n       COUNTRY   LATITUDE   LONGITUDE   CITY_STATE           VINEYARD_NAME  \n0  New Zealand -45.084868  169.180737  not defined           Akarua Winery  \n1  New Zealand -45.039962  169.121620        Otago        Wild Earth Wines  \n2  New Zealand -45.029441  168.969287  not defined                 Kinross  \n3  New Zealand -45.028898  169.197911  not defined      Jackson Q Orchards  \n4  New Zealand -45.012217  168.915346        Otago  Gibbston Valley Winery  "
                    },
                    "execution_count": 41,
                    "metadata": {},
                    "output_type": "execute_result"
                }
            ],
            "source": "df_new_world.head()"
        },
        {
            "cell_type": "markdown",
            "metadata": {},
            "source": "Now let's create a table named NEW_WORLD with distinct data from table VINEYARDS. This is the table we will be using, once database processing with distinct will need much more processing than without it."
        },
        {
            "cell_type": "code",
            "execution_count": 43,
            "metadata": {},
            "outputs": [
                {
                    "data": {
                        "text/plain": "True"
                    },
                    "execution_count": 43,
                    "metadata": {},
                    "output_type": "execute_result"
                }
            ],
            "source": "createNewWolrd = 'create table NEW_WORLD as (select distinct * from vineyards) with data'\nscript = ibm_db.prepare(conn, createNewWolrd)\nibm_db.execute(script)"
        },
        {
            "cell_type": "code",
            "execution_count": 49,
            "metadata": {},
            "outputs": [
                {
                    "data": {
                        "text/html": "<div>\n<style scoped>\n    .dataframe tbody tr th:only-of-type {\n        vertical-align: middle;\n    }\n\n    .dataframe tbody tr th {\n        vertical-align: top;\n    }\n\n    .dataframe thead th {\n        text-align: right;\n    }\n</style>\n<table border=\"1\" class=\"dataframe\">\n  <thead>\n    <tr style=\"text-align: right;\">\n      <th></th>\n      <th>ID_FORSQUARE</th>\n      <th>VINEYARD_ADDRESS</th>\n      <th>ABREVIATION_COUNTRY</th>\n      <th>CITY</th>\n      <th>COUNTRY</th>\n      <th>LATITUDE</th>\n      <th>LONGITUDE</th>\n      <th>CITY_STATE</th>\n      <th>VINEYARD_NAME</th>\n    </tr>\n  </thead>\n  <tbody>\n    <tr>\n      <th>0</th>\n      <td>4babc28af964a5201ec73ae3</td>\n      <td>not defined</td>\n      <td>NZ</td>\n      <td>not defined</td>\n      <td>New Zealand</td>\n      <td>-45.084868</td>\n      <td>169.180737</td>\n      <td>not defined</td>\n      <td>Akarua Winery</td>\n    </tr>\n    <tr>\n      <th>1</th>\n      <td>4dc723b518387d1bd5699641</td>\n      <td>not defined</td>\n      <td>NZ</td>\n      <td>Bannockburn</td>\n      <td>New Zealand</td>\n      <td>-45.039962</td>\n      <td>169.121620</td>\n      <td>Otago</td>\n      <td>Wild Earth Wines</td>\n    </tr>\n    <tr>\n      <th>2</th>\n      <td>549cdc88498eaaf3954b9610</td>\n      <td>not defined</td>\n      <td>NZ</td>\n      <td>not defined</td>\n      <td>New Zealand</td>\n      <td>-45.029441</td>\n      <td>168.969287</td>\n      <td>not defined</td>\n      <td>Kinross</td>\n    </tr>\n    <tr>\n      <th>3</th>\n      <td>4d0e7be1b4abb60cc472417a</td>\n      <td>not defined</td>\n      <td>NZ</td>\n      <td>not defined</td>\n      <td>New Zealand</td>\n      <td>-45.028898</td>\n      <td>169.197911</td>\n      <td>not defined</td>\n      <td>Jackson Q Orchards</td>\n    </tr>\n    <tr>\n      <th>4</th>\n      <td>4c5cb29f94fd0f478285c945</td>\n      <td>Gibbston Valley</td>\n      <td>NZ</td>\n      <td>Queenstown</td>\n      <td>New Zealand</td>\n      <td>-45.012217</td>\n      <td>168.915346</td>\n      <td>Otago</td>\n      <td>Gibbston Valley Winery</td>\n    </tr>\n  </tbody>\n</table>\n</div>",
                        "text/plain": "               ID_FORSQUARE VINEYARD_ADDRESS ABREVIATION_COUNTRY         CITY  \\\n0  4babc28af964a5201ec73ae3      not defined                  NZ  not defined   \n1  4dc723b518387d1bd5699641      not defined                  NZ  Bannockburn   \n2  549cdc88498eaaf3954b9610      not defined                  NZ  not defined   \n3  4d0e7be1b4abb60cc472417a      not defined                  NZ  not defined   \n4  4c5cb29f94fd0f478285c945  Gibbston Valley                  NZ   Queenstown   \n\n       COUNTRY   LATITUDE   LONGITUDE   CITY_STATE           VINEYARD_NAME  \n0  New Zealand -45.084868  169.180737  not defined           Akarua Winery  \n1  New Zealand -45.039962  169.121620        Otago        Wild Earth Wines  \n2  New Zealand -45.029441  168.969287  not defined                 Kinross  \n3  New Zealand -45.028898  169.197911  not defined      Jackson Q Orchards  \n4  New Zealand -45.012217  168.915346        Otago  Gibbston Valley Winery  "
                    },
                    "execution_count": 49,
                    "metadata": {},
                    "output_type": "execute_result"
                }
            ],
            "source": "query = 'select * from NEW_WORLD'\ndf_new_world = pd.read_sql(query, pconn)\ndf_new_world.head()"
        }
    ],
    "metadata": {
        "kernelspec": {
            "display_name": "Python 3.6",
            "language": "python",
            "name": "python3"
        },
        "language_info": {
            "codemirror_mode": {
                "name": "ipython",
                "version": 3
            },
            "file_extension": ".py",
            "mimetype": "text/x-python",
            "name": "python",
            "nbconvert_exporter": "python",
            "pygments_lexer": "ipython3",
            "version": "3.6.9"
        }
    },
    "nbformat": 4,
    "nbformat_minor": 1
}